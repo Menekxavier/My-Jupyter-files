{
 "cells": [
  {
   "cell_type": "code",
   "execution_count": 2,
   "metadata": {},
   "outputs": [
    {
     "data": {
      "text/plain": [
       "[(1, 'MrEkemini', 'Inieke', '9 Ring Road, Eket', 15, '99059428', 'M', 185.0),\n",
       " (1, 'MrEkemini', 'Inieke', '9 Ring Road, Eket', 15, '99059428', 'M', 185.0),\n",
       " (1, 'MrEkemini', 'Inieke', '9 Ring Road, Eket', 15, '99059428', 'M', 185.0),\n",
       " (2, 'MrMichael', 'Olasebikan', 'Exeter', 16, '996362253', 'M', 176.0),\n",
       " (3, 'MrSavior', 'Bassey', 'Eket', 15, '980697893', 'M', 190.0),\n",
       " (3, 'MrSavior', 'Bassey', 'Eket', 15, '980697893', 'M', 190.0),\n",
       " (4, 'Mr Friday', 'Sunday', 'Lekki, Lagos', 20, '92096004258', 'F', 200.0),\n",
       " (5, 'Mrs Agnes', 'Lawrence', 'Sapelle, Delta', 45, '96346263224', 'F', 159.0),\n",
       " (6,\n",
       "  'Mrs Cynthia',\n",
       "  'Stanley',\n",
       "  'Port Harcourt, Rivers',\n",
       "  30,\n",
       "  '92602453267',\n",
       "  'F',\n",
       "  169.0),\n",
       " (7, 'Mr Osimehn', 'Victor', 'Abidjan', 25, '90960352258', 'M', 220.0),\n",
       " (4, 'Mr Friday', 'Sunday', 'Lekki, Lagos', 20, '92096004258', 'F', 200.0),\n",
       " (5, 'Mrs Agnes', 'Lawrence', 'Sapelle, Delta', 45, '96346263224', 'F', 159.0),\n",
       " (6,\n",
       "  'Mrs Cynthia',\n",
       "  'Stanley',\n",
       "  'Port Harcourt, Rivers',\n",
       "  30,\n",
       "  '92602453267',\n",
       "  'F',\n",
       "  169.0),\n",
       " (7, 'Mr Osimehn', 'Victor', 'Abidjan', 25, '90960352258', 'M', 220.0)]"
      ]
     },
     "execution_count": 2,
     "metadata": {},
     "output_type": "execute_result"
    }
   ],
   "source": [
    "variable = [(1, 'MrEkemini', 'Inieke', '9 Ring Road, Eket', 15, '99059428', 'M', 185.0),\n",
    " (1, 'MrEkemini', 'Inieke', '9 Ring Road, Eket', 15, '99059428', 'M', 185.0),\n",
    " (1, 'MrEkemini', 'Inieke', '9 Ring Road, Eket', 15, '99059428', 'M', 185.0),\n",
    " (2, 'MrMichael', 'Olasebikan', 'Exeter', 16, '996362253', 'M', 176.0),\n",
    " (3, 'MrSavior', 'Bassey', 'Eket', 15, '980697893', 'M', 190.0),\n",
    " (3, 'MrSavior', 'Bassey', 'Eket', 15, '980697893', 'M', 190.0),\n",
    " (4, 'Mr Friday', 'Sunday', 'Lekki, Lagos', 20, '92096004258', 'F', 200.0),\n",
    " (5, 'Mrs Agnes', 'Lawrence', 'Sapelle, Delta', 45, '96346263224', 'F', 159.0),\n",
    " (6,\n",
    "  'Mrs Cynthia',\n",
    "  'Stanley',\n",
    "  'Port Harcourt, Rivers',\n",
    "  30,\n",
    "  '92602453267',\n",
    "  'F',\n",
    "  169.0),\n",
    " (7, 'Mr Osimehn', 'Victor', 'Abidjan', 25, '90960352258', 'M', 220.0),\n",
    " (4, 'Mr Friday', 'Sunday', 'Lekki, Lagos', 20, '92096004258', 'F', 200.0),\n",
    " (5, 'Mrs Agnes', 'Lawrence', 'Sapelle, Delta', 45, '96346263224', 'F', 159.0),\n",
    " (6,\n",
    "  'Mrs Cynthia',\n",
    "  'Stanley',\n",
    "  'Port Harcourt, Rivers',\n",
    "  30,\n",
    "  '92602453267',\n",
    "  'F',\n",
    "  169.0),\n",
    " (7, 'Mr Osimehn', 'Victor', 'Abidjan', 25, '90960352258', 'M', 220.0)]\n",
    "variable"
   ]
  }
 ],
 "metadata": {
  "kernelspec": {
   "display_name": "base",
   "language": "python",
   "name": "python3"
  },
  "language_info": {
   "codemirror_mode": {
    "name": "ipython",
    "version": 3
   },
   "file_extension": ".py",
   "mimetype": "text/x-python",
   "name": "python",
   "nbconvert_exporter": "python",
   "pygments_lexer": "ipython3",
   "version": "3.11.7"
  }
 },
 "nbformat": 4,
 "nbformat_minor": 2
}
